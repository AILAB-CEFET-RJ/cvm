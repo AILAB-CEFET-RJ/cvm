{
 "cells": [
  {
   "cell_type": "markdown",
   "id": "55f96ab8",
   "metadata": {},
   "source": [
    "| Fundo                 | Classe        | Nº Cotistas | Percentual Configurado | Deveria ser | Status esperado |\n",
    "|-----------------------|---------------|-------------|------------------------|-------------|-----------------|\n",
    "| FIAGRO Terra Brasil   | Classe A      | 120         | 3%                     | 3%          | Conforme      |\n",
    "| FIAGRO Terra Brasil   | Classe B      | 90          | 5%                     | 5%          | Conforme      |\n",
    "| FIAGRO AgroVale       | Classe Única  | 75          | 4%                     | 5%          | Divergente    |\n",
    "| FII Urbe Real         | Classe Alpha  | 200         | 2.5%                   | 3%          | Divergente    |\n",
    "| FIAGRO Campo Forte    | Classe Ouro   | 150         | 3%                     | 3%          | Conforme      |\n",
    "| FIAGRO VerdeCampo     | Classe Verde  | 60          | 5%                     | 5%          | Conforme      |\n",
    "| FIAGRO VerdeCampo     | Classe Agro   | 95          | 6%                     | 5%          | Divergente    |\n"
   ]
  }
 ],
 "metadata": {
  "language_info": {
   "name": "python"
  }
 },
 "nbformat": 4,
 "nbformat_minor": 5
}
